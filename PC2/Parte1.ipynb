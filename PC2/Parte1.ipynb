{
 "cells": [
  {
   "cell_type": "markdown",
   "metadata": {},
   "source": [
    "1. Escribe una función que acepte una cadena que contenga todas las letras del alfabeto excepto una y devuelva la letra que falta. Por ejemplo, la cadena the quick brown box jumps over a lazy dog contiene todas las letras del alfabeto excepto la letra f. La función debe tener una complejidad temporal de O(n). (1 punto)"
   ]
  },
  {
   "cell_type": "code",
   "execution_count": 19,
   "metadata": {},
   "outputs": [
    {
     "data": {
      "text/plain": [
       "\"f\""
      ]
     },
     "execution_count": 19,
     "metadata": {},
     "output_type": "execute_result"
    }
   ],
   "source": [
    "def return_letter(cadena)\n",
    "    abecedario = [\"a\",\"b\",\"c\",\"d\",\"e\",\"f\",\"g\",\"h\",\"i\",\"j\",\"k\",\"l\",\"m\",\"n\",\"o\",\"p\",\"q\",\"r\",\"s\",\"t\",\"u\",\"v\",\"w\",\"x\",\"y\",\"z\"]\n",
    "    cadena.downcase!\n",
    "    for i in 0..abecedario.size-1\n",
    "        letra = abecedario[i]\n",
    "        return letra if !cadena.include?(letra) \n",
    "    end\n",
    "    return \"\"\n",
    "end\n",
    "return_letter(\"the quick brown box jumps over a lazy dog\")"
   ]
  },
  {
   "cell_type": "markdown",
   "metadata": {},
   "source": [
    "En este código lo que hacemos es lo siguiente:\n",
    "- Declaramos un array abecesario con todas letras del alafabeto inglés \n",
    "- Para sanitizar un poco los datos, vamos a convertir la cadena de entrada a minúsculas\n",
    "- Ahora recorremos el array del abacedario\n",
    "- Para cada letra del abecedario, la retornamos si es que la cadena no incluye esa letra, usamos ? luego de la llamada a la función ya que está función devuelve un booleano\n",
    "- Finalmente si no encuentra ninguna letra que no se encuentre en la cadena retorna una cadena vacía"
   ]
  },
  {
   "cell_type": "markdown",
   "metadata": {},
   "source": [
    "2. Un árbol binario ordenado es aquel en el que cada nodo tiene un valor y hasta 2 hijos, cada uno de los cuales es también un árbol binario ordenado, y el valor de cualquier elemento del subárbol izquierdo de un nodo es menor que el valor de cualquier elemento en el subárbol derecho del nodo. Defina una clase colección llamada BinaryTree que ofrezca los métodos de instancia << (insertar elemento), empty? (devuelve cierto si el árbol no tiene elementos) y each (el iterador estándar que devuelve un elemento cada vez, en el orden que tú quieras). (2 puntos)"
   ]
  },
  {
   "cell_type": "code",
   "execution_count": 42,
   "metadata": {},
   "outputs": [
    {
     "name": "stdout",
     "output_type": "stream",
     "text": [
      "Recorrido vacio\n",
      "¿El arbol esta vacio? true\n",
      "Se inserto el valor 10\n",
      "Se inserto el valor 5\n",
      "Se inserto el valor 15\n",
      "Recorrido lleno\n",
      "5\n",
      "10\n",
      "15\n",
      "¿El arbol esta vacio? false\n"
     ]
    }
   ],
   "source": [
    "class BinaryTree\n",
    "    def initialize\n",
    "        @root = nil\n",
    "    end\n",
    "    def << valor\n",
    "        if @root.nil?\n",
    "            @root = Nodo.new valor \n",
    "        else \n",
    "            @root << valor\n",
    "        end\n",
    "        puts \"Se inserto el valor #{valor}\"\n",
    "    end\n",
    "    def empty?\n",
    "        return @root.nil?\n",
    "    end\n",
    "    def each &block\n",
    "        @root.each &block unless @root.nil?\n",
    "    end\n",
    "end\n",
    "class Nodo\n",
    "    def initialize valor\n",
    "        @valor = valor\n",
    "        @izquierda = nil\n",
    "        @derecha = nil\n",
    "    end\n",
    "    def << valor\n",
    "        if valor <= @valor\n",
    "            if @izquierda.nil? \n",
    "                @izquierda = Nodo.new valor\n",
    "            else\n",
    "                @izquierda << valor\n",
    "            end\n",
    "        else\n",
    "            if @derecha.nil?\n",
    "                @derecha = Nodo.new(valor)\n",
    "            else\n",
    "                @derecha << valor\n",
    "            end\n",
    "        end\n",
    "    end\n",
    "    def each &block\n",
    "        @izquierda.each &block unless @izquierda.nil?\n",
    "        yield @valor\n",
    "        @derecha.each &block unless @derecha.nil?\n",
    "    end\n",
    "end\n",
    "\n",
    "binary_tree = BinaryTree.new\n",
    "puts \"Recorrido vacio#{binary_tree.each {|x| puts x}}\"\n",
    "puts \"¿El arbol esta vacio? #{binary_tree.empty?}\"\n",
    "binary_tree << 10\n",
    "binary_tree << 5\n",
    "binary_tree << 15\n",
    "puts  \"Recorrido lleno\"\n",
    "print  binary_tree.each {|x| puts x}\n",
    "puts \"¿El arbol esta vacio? #{binary_tree.empty?}\"\n",
    "\n"
   ]
  },
  {
   "cell_type": "markdown",
   "metadata": {},
   "source": [
    "En este caso definimos dos clases, la clase BinaryTree y la clase Nodo\n",
    "En la clase BinaryTree\n",
    "- Definimos la función initialize que crea un nodo raiz vacio\n",
    "- Ahora la función << que nos permite agregar elementos al nodo, primero verifica que el nodo raiz sea vacio, si lo es entonces crea un nuevo nodo raiz con el valor dado, de lo contrario llama a la funcion agregar nodo del nodo raiz.\n",
    "- Ahora, si el nodo raiz es nil signifca que no hemos agregado ningún elemento al BinaryTree así que estará vacío, así que al llamar la función empty? nos retorna si el nodo está vacío o no.\n",
    "- Ahora el método each que toma como entrada un bloque, este llama al metodo each del nodo raiz, además de que verifica si el nodo raiz es vacio, si es vacío entonces no hace nada.\n",
    "En la clase Nodo\n",
    "- En el constructor le damos el valor que le pasamos como parámetro además de inicializar el hijo izquierdo y derecho en nil.\n",
    "- En la función de agregar << , verifica si el valor es menor al valor del nodo actual, si es menor entonces lo agrega al lado izquierdo, verifica si el hijo izquierdo del nodo actual es vacio, si lo es entonces crea un nodo para que sea el hijo izquierdo para que sea el valor actual, si el hijo izquierdo no es vacio, entonces llama a la funcion << del nodo izquierdo, de la misma forma para el nodo derecho.\n",
    "- Ahora para la función each del nodo, verifica que el nodo izquierdo no sea vacio, si no es vacio entonces llama a la función each del nodo izquierdo, luego llama al bloque que le pasamos como parámetro, luego verifica que el nodo derecho no sea vacio, si no es vacio entonces llama a la función each del nodo derecho."
   ]
  },
  {
   "cell_type": "markdown",
   "metadata": {},
   "source": [
    "3. Extiende la clase de tu árbol binario ordenado para que ofrezca los siguientes métodos, cada uno de los cuales toma un bloque: include?(elt) (devuelve cierto si el árbol incluye a elt), all? (cierto si un bloque dado es cierto para todos los elementos), any? (cierto si un bloque dado es cierto para alguno de sus elementos), sort (ordena los elementos) (1 puntos)"
   ]
  },
  {
   "cell_type": "code",
   "execution_count": 62,
   "metadata": {},
   "outputs": [
    {
     "name": "stdout",
     "output_type": "stream",
     "text": [
      "Se inserto el valor 10\n",
      "Se inserto el valor 5\n",
      "Se inserto el valor 15\n",
      "¿El arbol contiene el valor 10? true\n",
      "¿El arbol contiene el valor 25? false\n",
      "¿Todos los elementos son mayores a 0? true\n",
      "¿Todos los elementos son mayores a 30? false\n",
      "¿Algun elemento es mayor a 10? true\n",
      "¿Algun elemento es mayor igual a 15? true\n",
      "¿Algun elemento es mayor a 30? false\n",
      "Arbol ordenado [5, 10, 15]\n"
     ]
    }
   ],
   "source": [
    "class BinaryTree \n",
    "    def include? elt\n",
    "        if @root == nil\n",
    "            return false\n",
    "        else\n",
    "            each do |x|\n",
    "                if x == elt\n",
    "                    return true\n",
    "                end\n",
    "            end\n",
    "        end\n",
    "        return false\n",
    "    end\n",
    "    def all? &block\n",
    "        each {|x| return false unless yield x}\n",
    "        return true\n",
    "    end\n",
    "    def any? &block\n",
    "        each {|x| return true if yield x}\n",
    "        return false\n",
    "    end\n",
    "    def sort \n",
    "        arr = []\n",
    "        each {|x| arr << x}\n",
    "        return arr.sort\n",
    "    end\n",
    "end\n",
    "\n",
    "binary_tree_new = BinaryTree.new\n",
    "binary_tree_new << 10\n",
    "binary_tree_new << 5\n",
    "binary_tree_new << 15\n",
    "puts \"¿El arbol contiene el valor 10? #{binary_tree_new.include? 10}\"\n",
    "puts \"¿El arbol contiene el valor 25? #{binary_tree_new.include? 25}\"\n",
    "puts \"¿Todos los elementos son mayores a 0? #{binary_tree_new.all? {|x| x > 0}}\"\n",
    "puts \"¿Todos los elementos son mayores a 30? #{binary_tree_new.all? {|x| x > 30}}\"\n",
    "puts \"¿Algun elemento es mayor a 10? #{binary_tree_new.any? {|x| x > 10}}\"\n",
    "puts \"¿Algun elemento es mayor igual a 15? #{binary_tree_new.any? {|x| x >= 15}}\"\n",
    "puts \"¿Algun elemento es mayor a 30? #{binary_tree_new.any? {|x| x > 30}}\"\n",
    "puts \"Arbol ordenado #{binary_tree_new.sort}\""
   ]
  },
  {
   "cell_type": "markdown",
   "metadata": {},
   "source": [
    "En este caso, vamos a agregarle funciones a nuestro BinaryTree\n",
    "- Para el include primero revisamos que la raiz no sea nula, si no es nula entonces itera sobre cada elemento del árbol usando each, si encuentra un valor en algún nodo que sea igual al parámetro elt que le dimos entonces retorna true ya que si incluye ese valor.\n",
    "- Para el método all, recorremos el árbol usando each con este bloque {|x| return false unless yield x}, este nos dice que por cada valor retorne falso a menos que x se cumpla, así que si algún valor no cumple la condición entonces retornará false.\n",
    "- Para el método any usamos algo parecido al anterior, usamos el bloque each {|x| return true if yield x}, el cual nos devuelve true si cualquier de los valores sobre los que itera cumple la condición.\n",
    "- Para el método sort creamos un array vacio y le agregamos todos los valores del BinaryTree para finalmente retornar el array ordenado usando arr.sort"
   ]
  }
 ],
 "metadata": {
  "kernelspec": {
   "display_name": "Ruby 3.2.2",
   "language": "ruby",
   "name": "ruby"
  },
  "language_info": {
   "file_extension": ".rb",
   "mimetype": "application/x-ruby",
   "name": "ruby",
   "version": "3.2.2"
  }
 },
 "nbformat": 4,
 "nbformat_minor": 2
}
